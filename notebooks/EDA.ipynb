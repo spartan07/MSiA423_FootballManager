{
 "cells": [
  {
   "cell_type": "code",
   "execution_count": 2,
   "metadata": {},
   "outputs": [],
   "source": [
    "import pandas as pd\n",
    "import numpy as np\n",
    "from datetime import datetime\n",
    "import re\n",
    "import seaborn as sns\n",
    "import matplotlib.pyplot as plt\n",
    "from scipy.stats import norm\n",
    "from scipy import stats"
   ]
  },
  {
   "cell_type": "code",
   "execution_count": 3,
   "metadata": {},
   "outputs": [],
   "source": [
    "fifa = pd.read_csv('../data/EA_FIFA19.csv')"
   ]
  },
  {
   "cell_type": "code",
   "execution_count": 4,
   "metadata": {},
   "outputs": [],
   "source": [
    "#Remove symbols and convert to nums for Wage,Value and Release Clause\n",
    "def value_to_int(df_value):\n",
    "    try:\n",
    "        value = float(df_value[1:-1])\n",
    "        suffix = df_value[-1:]\n",
    "\n",
    "        if suffix == 'M':\n",
    "            value = value * 1000000\n",
    "        elif suffix == 'K':\n",
    "            value = value * 1000\n",
    "    except ValueError:\n",
    "        value = 0\n",
    "    return value"
   ]
  },
  {
   "cell_type": "code",
   "execution_count": 5,
   "metadata": {},
   "outputs": [],
   "source": [
    "fifa['Value'] = fifa['Value'].apply(value_to_int)\n",
    "fifa['Wage'] = fifa['Wage'].apply(value_to_int)"
   ]
  },
  {
   "cell_type": "code",
   "execution_count": 6,
   "metadata": {},
   "outputs": [],
   "source": [
    "fifa['Release Clause'] = fifa['Release Clause'].fillna('0')\n",
    "fifa['Release Clause'] = fifa['Release Clause'].apply(value_to_int)"
   ]
  },
  {
   "cell_type": "code",
   "execution_count": 7,
   "metadata": {},
   "outputs": [],
   "source": [
    "def check_contract(row):\n",
    "    month_list=['Jan','Feb','Mar','Apr','May','Jun','Jul','Aug','Sep','Oct','Nov','Dec']\n",
    "    ref_date = datetime(2018,5,31,0,0,0)\n",
    "    contract = row['Contract Valid Until']\n",
    "    try:\n",
    "        match = re.findall('(\\w{3}) \\d{1,2}, (\\d{4})',contract)\n",
    "        if len(match)!=0:\n",
    "            month_str = match[0][0]\n",
    "            month = month_list.index(month_str)+1\n",
    "            year = int(match[0][1])\n",
    "            dt = datetime(year,month,1,0,0,0)\n",
    "            a = dt- ref_date\n",
    "            print(a)\n",
    "            row['contract_days'] = a.days\n",
    "        else:\n",
    "            match = re.findall('(\\d{4})',contract)\n",
    "            month = month_list.index('Jun')+1\n",
    "            year = int(match[0])\n",
    "            dt = datetime(year,month,1,0,0,0)\n",
    "            a = dt- ref_date\n",
    "            row['contract_days'] = a.days\n",
    "        return row\n",
    "    except:\n",
    "        year = 2020\n",
    "        month = month_list.index('Jun')\n",
    "        dt = datetime(year,month,1,0,0,0)\n",
    "        a = dt- ref_date\n",
    "        row['contract_days'] = a.days\n",
    "        return row"
   ]
  },
  {
   "cell_type": "code",
   "execution_count": 8,
   "metadata": {},
   "outputs": [],
   "source": [
    "#Turn Preferred Foot into a binary indicator variable\n",
    "def right_footed(df):\n",
    "    if (df['Preferred Foot'] == 'Right'):\n",
    "        return 1\n",
    "    else:\n",
    "        return 0\n",
    "\n",
    "#Create a simplified position varaible to account for all player positions\n",
    "def simple_position(df):\n",
    "    if (df['Position'] == 'GK'):\n",
    "        return 'GK'\n",
    "    elif ((df['Position'] == 'RB') | (df['Position'] == 'LB') | (df['Position'] == 'CB') | (df['Position'] == 'LCB') | (df['Position'] == 'RCB') | (df['Position'] == 'RWB') | (df['Position'] == 'LWB') ):\n",
    "        return 'DF'\n",
    "    elif ((df['Position'] == 'LDM') | (df['Position'] == 'CDM') | (df['Position'] == 'RDM')):\n",
    "        return 'DM'\n",
    "    elif ((df['Position'] == 'LM') | (df['Position'] == 'LCM') | (df['Position'] == 'CM') | (df['Position'] == 'RCM') | (df['Position'] == 'RM')):\n",
    "        return 'MF'\n",
    "    elif ((df['Position'] == 'LAM') | (df['Position'] == 'CAM') | (df['Position'] == 'RAM') | (df['Position'] == 'LW') | (df['Position'] == 'RW')):\n",
    "        return 'AM'\n",
    "    elif ((df['Position'] == 'RS') | (df['Position'] == 'ST') | (df['Position'] == 'LS') | (df['Position'] == 'CF') | (df['Position'] == 'LF') | (df['Position'] == 'RF')):\n",
    "        return 'ST'\n",
    "    else:\n",
    "        return df.Position\n",
    "\n",
    "#Get a count of Nationalities in the Dataset, make of list of those with over 250 Players (our Major Nations)\n",
    "nat_counts = fifa.Nationality.value_counts()\n",
    "nat_list = nat_counts[nat_counts > 250].index.tolist()\n",
    "\n",
    "#Replace Nationality with a binary indicator variable for 'Major Nation'\n",
    "def major_nation(df):\n",
    "    if (df.Nationality in nat_list):\n",
    "        return 1\n",
    "    else:\n",
    "        return 0\n",
    "\n"
   ]
  },
  {
   "cell_type": "code",
   "execution_count": 9,
   "metadata": {},
   "outputs": [],
   "source": [
    "#Create a copy of the original dataframe to avoid indexing errors\n",
    "df1 = fifa.copy()\n",
    "\n",
    "#Apply changes to dataset to create new column\n",
    "df1['Right_Foot'] = df1.apply(right_footed, axis=1)\n",
    "df1['Simple_Position'] = df1.apply(simple_position,axis = 1)\n",
    "df1['Major_Nation'] = df1.apply(major_nation,axis = 1)\n",
    "\n",
    "#Split the Work Rate Column in two\n",
    "tempwork = df1[\"Work Rate\"].str.split(\"/ \", n = 1, expand = True) \n",
    "#Create new column for first work rate\n",
    "df1[\"WorkRate1\"]= tempwork[0]   \n",
    "#Create new column for second work rate\n",
    "df1[\"WorkRate2\"]= tempwork[1]"
   ]
  },
  {
   "cell_type": "code",
   "execution_count": 10,
   "metadata": {},
   "outputs": [
    {
     "data": {
      "text/html": [
       "<div>\n",
       "<style scoped>\n",
       "    .dataframe tbody tr th:only-of-type {\n",
       "        vertical-align: middle;\n",
       "    }\n",
       "\n",
       "    .dataframe tbody tr th {\n",
       "        vertical-align: top;\n",
       "    }\n",
       "\n",
       "    .dataframe thead th {\n",
       "        text-align: right;\n",
       "    }\n",
       "</style>\n",
       "<table border=\"1\" class=\"dataframe\">\n",
       "  <thead>\n",
       "    <tr style=\"text-align: right;\">\n",
       "      <th></th>\n",
       "      <th>ID</th>\n",
       "      <th>Photo</th>\n",
       "      <th>Flag</th>\n",
       "      <th>Club Logo</th>\n",
       "      <th>Jersey Number</th>\n",
       "      <th>Joined</th>\n",
       "      <th>Special</th>\n",
       "      <th>Loaned From</th>\n",
       "      <th>Body Type</th>\n",
       "      <th>Release Clause</th>\n",
       "      <th>Weight</th>\n",
       "      <th>Height</th>\n",
       "      <th>Contract Valid Until</th>\n",
       "      <th>Name</th>\n",
       "      <th>Club</th>\n",
       "    </tr>\n",
       "  </thead>\n",
       "  <tbody>\n",
       "    <tr>\n",
       "      <th>0</th>\n",
       "      <td>158023</td>\n",
       "      <td>https://cdn.sofifa.org/players/4/19/158023.png</td>\n",
       "      <td>https://cdn.sofifa.org/flags/52.png</td>\n",
       "      <td>https://cdn.sofifa.org/teams/2/light/241.png</td>\n",
       "      <td>10.0</td>\n",
       "      <td>Jul 1, 2004</td>\n",
       "      <td>2202</td>\n",
       "      <td>NaN</td>\n",
       "      <td>Messi</td>\n",
       "      <td>226500000.0</td>\n",
       "      <td>159lbs</td>\n",
       "      <td>5'7</td>\n",
       "      <td>2021</td>\n",
       "      <td>L. Messi</td>\n",
       "      <td>FC Barcelona</td>\n",
       "    </tr>\n",
       "    <tr>\n",
       "      <th>1</th>\n",
       "      <td>20801</td>\n",
       "      <td>https://cdn.sofifa.org/players/4/19/20801.png</td>\n",
       "      <td>https://cdn.sofifa.org/flags/38.png</td>\n",
       "      <td>https://cdn.sofifa.org/teams/2/light/45.png</td>\n",
       "      <td>7.0</td>\n",
       "      <td>Jul 10, 2018</td>\n",
       "      <td>2228</td>\n",
       "      <td>NaN</td>\n",
       "      <td>C. Ronaldo</td>\n",
       "      <td>127100000.0</td>\n",
       "      <td>183lbs</td>\n",
       "      <td>6'2</td>\n",
       "      <td>2022</td>\n",
       "      <td>Cristiano Ronaldo</td>\n",
       "      <td>Juventus</td>\n",
       "    </tr>\n",
       "    <tr>\n",
       "      <th>2</th>\n",
       "      <td>190871</td>\n",
       "      <td>https://cdn.sofifa.org/players/4/19/190871.png</td>\n",
       "      <td>https://cdn.sofifa.org/flags/54.png</td>\n",
       "      <td>https://cdn.sofifa.org/teams/2/light/73.png</td>\n",
       "      <td>10.0</td>\n",
       "      <td>Aug 3, 2017</td>\n",
       "      <td>2143</td>\n",
       "      <td>NaN</td>\n",
       "      <td>Neymar</td>\n",
       "      <td>228100000.0</td>\n",
       "      <td>150lbs</td>\n",
       "      <td>5'9</td>\n",
       "      <td>2022</td>\n",
       "      <td>Neymar Jr</td>\n",
       "      <td>Paris Saint-Germain</td>\n",
       "    </tr>\n",
       "    <tr>\n",
       "      <th>3</th>\n",
       "      <td>193080</td>\n",
       "      <td>https://cdn.sofifa.org/players/4/19/193080.png</td>\n",
       "      <td>https://cdn.sofifa.org/flags/45.png</td>\n",
       "      <td>https://cdn.sofifa.org/teams/2/light/11.png</td>\n",
       "      <td>1.0</td>\n",
       "      <td>Jul 1, 2011</td>\n",
       "      <td>1471</td>\n",
       "      <td>NaN</td>\n",
       "      <td>Lean</td>\n",
       "      <td>138600000.0</td>\n",
       "      <td>168lbs</td>\n",
       "      <td>6'4</td>\n",
       "      <td>2020</td>\n",
       "      <td>De Gea</td>\n",
       "      <td>Manchester United</td>\n",
       "    </tr>\n",
       "    <tr>\n",
       "      <th>4</th>\n",
       "      <td>192985</td>\n",
       "      <td>https://cdn.sofifa.org/players/4/19/192985.png</td>\n",
       "      <td>https://cdn.sofifa.org/flags/7.png</td>\n",
       "      <td>https://cdn.sofifa.org/teams/2/light/10.png</td>\n",
       "      <td>7.0</td>\n",
       "      <td>Aug 30, 2015</td>\n",
       "      <td>2281</td>\n",
       "      <td>NaN</td>\n",
       "      <td>Normal</td>\n",
       "      <td>196400000.0</td>\n",
       "      <td>154lbs</td>\n",
       "      <td>5'11</td>\n",
       "      <td>2023</td>\n",
       "      <td>K. De Bruyne</td>\n",
       "      <td>Manchester City</td>\n",
       "    </tr>\n",
       "  </tbody>\n",
       "</table>\n",
       "</div>"
      ],
      "text/plain": [
       "       ID                                           Photo  \\\n",
       "0  158023  https://cdn.sofifa.org/players/4/19/158023.png   \n",
       "1   20801   https://cdn.sofifa.org/players/4/19/20801.png   \n",
       "2  190871  https://cdn.sofifa.org/players/4/19/190871.png   \n",
       "3  193080  https://cdn.sofifa.org/players/4/19/193080.png   \n",
       "4  192985  https://cdn.sofifa.org/players/4/19/192985.png   \n",
       "\n",
       "                                  Flag  \\\n",
       "0  https://cdn.sofifa.org/flags/52.png   \n",
       "1  https://cdn.sofifa.org/flags/38.png   \n",
       "2  https://cdn.sofifa.org/flags/54.png   \n",
       "3  https://cdn.sofifa.org/flags/45.png   \n",
       "4   https://cdn.sofifa.org/flags/7.png   \n",
       "\n",
       "                                      Club Logo  Jersey Number        Joined  \\\n",
       "0  https://cdn.sofifa.org/teams/2/light/241.png           10.0   Jul 1, 2004   \n",
       "1   https://cdn.sofifa.org/teams/2/light/45.png            7.0  Jul 10, 2018   \n",
       "2   https://cdn.sofifa.org/teams/2/light/73.png           10.0   Aug 3, 2017   \n",
       "3   https://cdn.sofifa.org/teams/2/light/11.png            1.0   Jul 1, 2011   \n",
       "4   https://cdn.sofifa.org/teams/2/light/10.png            7.0  Aug 30, 2015   \n",
       "\n",
       "   Special Loaned From   Body Type  Release Clause  Weight Height  \\\n",
       "0     2202         NaN       Messi     226500000.0  159lbs    5'7   \n",
       "1     2228         NaN  C. Ronaldo     127100000.0  183lbs    6'2   \n",
       "2     2143         NaN      Neymar     228100000.0  150lbs    5'9   \n",
       "3     1471         NaN        Lean     138600000.0  168lbs    6'4   \n",
       "4     2281         NaN      Normal     196400000.0  154lbs   5'11   \n",
       "\n",
       "  Contract Valid Until               Name                 Club  \n",
       "0                 2021           L. Messi         FC Barcelona  \n",
       "1                 2022  Cristiano Ronaldo             Juventus  \n",
       "2                 2022          Neymar Jr  Paris Saint-Germain  \n",
       "3                 2020             De Gea    Manchester United  \n",
       "4                 2023       K. De Bruyne      Manchester City  "
      ]
     },
     "execution_count": 10,
     "metadata": {},
     "output_type": "execute_result"
    }
   ],
   "source": [
    "adhoc = df1[['ID','Photo','Flag','Club Logo','Jersey Number','Joined','Special','Loaned From','Body Type', 'Release Clause',\n",
    "               'Weight','Height','Contract Valid Until','Name','Club']]\n",
    "#adhoc = adhoc.dropna()\n",
    "adhoc.head()"
   ]
  },
  {
   "cell_type": "code",
   "execution_count": 11,
   "metadata": {},
   "outputs": [],
   "source": [
    "df1.drop(columns=['ID','Photo','Flag','Club Logo','Jersey Number','Joined','Special','Loaned From','Body Type', 'Release Clause',\n",
    "               'Weight','Height','Contract Valid Until','Name','Club'],inplace=True)"
   ]
  },
  {
   "cell_type": "code",
   "execution_count": 12,
   "metadata": {},
   "outputs": [
    {
     "data": {
      "text/plain": [
       "Index(['Age', 'Nationality', 'Overall', 'Potential', 'Value', 'Wage',\n",
       "       'Preferred Foot', 'International Reputation', 'Weak Foot',\n",
       "       'Skill Moves', 'Work Rate', 'Real Face', 'Position', 'LS', 'ST', 'RS',\n",
       "       'LW', 'LF', 'CF', 'RF', 'RW', 'LAM', 'CAM', 'RAM', 'LM', 'LCM', 'CM',\n",
       "       'RCM', 'RM', 'LWB', 'LDM', 'CDM', 'RDM', 'RWB', 'LB', 'LCB', 'CB',\n",
       "       'RCB', 'RB', 'Crossing', 'Finishing', 'HeadingAccuracy', 'ShortPassing',\n",
       "       'Volleys', 'Dribbling', 'Curve', 'FKAccuracy', 'LongPassing',\n",
       "       'BallControl', 'Acceleration', 'SprintSpeed', 'Agility', 'Reactions',\n",
       "       'Balance', 'ShotPower', 'Jumping', 'Stamina', 'Strength', 'LongShots',\n",
       "       'Aggression', 'Interceptions', 'Positioning', 'Vision', 'Penalties',\n",
       "       'Composure', 'Marking', 'StandingTackle', 'SlidingTackle', 'GKDiving',\n",
       "       'GKHandling', 'GKKicking', 'GKPositioning', 'GKReflexes', 'Right_Foot',\n",
       "       'Simple_Position', 'Major_Nation', 'WorkRate1', 'WorkRate2'],\n",
       "      dtype='object')"
      ]
     },
     "execution_count": 12,
     "metadata": {},
     "output_type": "execute_result"
    }
   ],
   "source": [
    "df1.columns"
   ]
  },
  {
   "cell_type": "code",
   "execution_count": 13,
   "metadata": {},
   "outputs": [],
   "source": [
    "df1.drop(columns=['LS', 'ST', 'RS', 'LW', 'LF', 'CF', 'RF', 'RW',\n",
    "       'LAM', 'CAM', 'RAM', 'LM', 'LCM', 'CM', 'RCM', 'RM', 'LWB', 'LDM',\n",
    "       'CDM', 'RDM', 'RWB', 'LB', 'LCB', 'CB', 'RCB', 'RB'],inplace=True)"
   ]
  },
  {
   "cell_type": "code",
   "execution_count": 14,
   "metadata": {},
   "outputs": [],
   "source": [
    "df1.drop(['Work Rate','Preferred Foot','Real Face', 'Position','Nationality'], axis=1,inplace=True)"
   ]
  },
  {
   "cell_type": "code",
   "execution_count": 15,
   "metadata": {},
   "outputs": [],
   "source": [
    "df2=pd.get_dummies(df1)"
   ]
  },
  {
   "cell_type": "code",
   "execution_count": 15,
   "metadata": {},
   "outputs": [
    {
     "ename": "NameError",
     "evalue": "name 'fifa2' is not defined",
     "output_type": "error",
     "traceback": [
      "\u001b[1;31m---------------------------------------------------------------------------\u001b[0m",
      "\u001b[1;31mNameError\u001b[0m                                 Traceback (most recent call last)",
      "\u001b[1;32m<ipython-input-15-2487505aaaf0>\u001b[0m in \u001b[0;36m<module>\u001b[1;34m\u001b[0m\n\u001b[0;32m      2\u001b[0m \u001b[1;31m#Relation between age and Potential\u001b[0m\u001b[1;33m\u001b[0m\u001b[1;33m\u001b[0m\u001b[1;33m\u001b[0m\u001b[0m\n\u001b[0;32m      3\u001b[0m \u001b[1;33m\u001b[0m\u001b[0m\n\u001b[1;32m----> 4\u001b[1;33m sns.jointplot(x=fifa2['Age'],y=fifa2['Potential'],\n\u001b[0m\u001b[0;32m      5\u001b[0m               \u001b[0mjoint_kws\u001b[0m\u001b[1;33m=\u001b[0m\u001b[1;33m{\u001b[0m\u001b[1;34m'alpha'\u001b[0m\u001b[1;33m:\u001b[0m\u001b[1;36m0.1\u001b[0m\u001b[1;33m,\u001b[0m\u001b[1;34m's'\u001b[0m\u001b[1;33m:\u001b[0m\u001b[1;36m5\u001b[0m\u001b[1;33m,\u001b[0m\u001b[1;34m'color'\u001b[0m\u001b[1;33m:\u001b[0m\u001b[1;34m'red'\u001b[0m\u001b[1;33m}\u001b[0m\u001b[1;33m,\u001b[0m\u001b[1;33m\u001b[0m\u001b[1;33m\u001b[0m\u001b[0m\n\u001b[0;32m      6\u001b[0m               marginal_kws={'color':'red'})\n",
      "\u001b[1;31mNameError\u001b[0m: name 'fifa2' is not defined"
     ]
    }
   ],
   "source": [
    "#Viz's for Eda\n",
    "#Relation between age and Potential\n",
    "\n",
    "sns.jointplot(x=fifa2['Age'],y=fifa2['Potential'],\n",
    "              joint_kws={'alpha':0.1,'s':5,'color':'red'},\n",
    "              marginal_kws={'color':'red'})\n",
    "\n"
   ]
  },
  {
   "cell_type": "code",
   "execution_count": 18,
   "metadata": {},
   "outputs": [
    {
     "data": {
      "image/png": "[encoded data removed]",
      "text/plain": [
       "<Figure size 502.75x432 with 1 Axes>"
      ]
     },
     "metadata": {
      "needs_background": "light"
     },
     "output_type": "display_data"
    }
   ],
   "source": [
    "sns.relplot(x=\"Age\", y=\"Potential\", hue=fifa2['Value']/100000, \n",
    "            sizes=(40, 400), alpha=.5,\n",
    "            height=6, data=fifa2);"
   ]
  },
  {
   "cell_type": "code",
   "execution_count": 19,
   "metadata": {},
   "outputs": [
    {
     "data": {
      "image/png": "[encoded data removed]",
      "text/plain": [
       "<Figure size 432x288 with 1 Axes>"
      ]
     },
     "metadata": {
      "needs_background": "light"
     },
     "output_type": "display_data"
    },
    {
     "data": {
      "image/png": "[encoded data removed]",
      "text/plain": [
       "<Figure size 432x288 with 1 Axes>"
      ]
     },
     "metadata": {
      "needs_background": "light"
     },
     "output_type": "display_data"
    }
   ],
   "source": [
    "#Plot Player Value \n",
    "sns.distplot(fifa2['Value'], fit=norm);\n",
    "fig = plt.figure()\n",
    "res = stats.probplot(fifa2['Value'], plot=plt)\n",
    "\n",
    "#Playr Value will have to log transformed for better results"
   ]
  },
  {
   "cell_type": "code",
   "execution_count": 17,
   "metadata": {},
   "outputs": [
    {
     "name": "stderr",
     "output_type": "stream",
     "text": [
      "C:\\Users\\arpan\\Anaconda3\\envs\\football_manager\\lib\\site-packages\\matplotlib\\figure.py:445: UserWarning: Matplotlib is currently using module://ipykernel.pylab.backend_inline, which is a non-GUI backend, so cannot show the figure.\n",
      "  % get_backend())\n"
     ]
    },
    {
     "data": {
      "image/png": "[encoded data removed]",
      "text/plain": [
       "<Figure size 864x648 with 2 Axes>"
      ]
     },
     "metadata": {
      "needs_background": "light"
     },
     "output_type": "display_data"
    }
   ],
   "source": [
    "#Correlation\n",
    "#correlation matrix\n",
    "\n",
    "useful_features = ['Wage','Value','Overall','Potential','Age']\n",
    "corrmat = fifa[useful_features].corr()\n",
    "f, ax = plt.subplots(figsize=(12, 9))\n",
    "sns.heatmap(corrmat, vmax=.8, square=True)\n",
    "plt.savefig('Corr.png')\n",
    "f.show()"
   ]
  },
  {
   "cell_type": "code",
   "execution_count": null,
   "metadata": {},
   "outputs": [],
   "source": [
    "from sklearn.preprocessing import Imputer\n",
    "from sklearn.pipeline import Pipeline\n",
    "from sklearn.svm import SVC\n",
    "\n",
    "\n"
   ]
  },
  {
   "cell_type": "code",
   "execution_count": 16,
   "metadata": {},
   "outputs": [
    {
     "data": {
      "text/plain": [
       "Index(['Age', 'Overall', 'Potential', 'Value', 'Wage',\n",
       "       'International Reputation', 'Weak Foot', 'Skill Moves', 'Crossing',\n",
       "       'Finishing', 'HeadingAccuracy', 'ShortPassing', 'Volleys', 'Dribbling',\n",
       "       'Curve', 'FKAccuracy', 'LongPassing', 'BallControl', 'Acceleration',\n",
       "       'SprintSpeed', 'Agility', 'Reactions', 'Balance', 'ShotPower',\n",
       "       'Jumping', 'Stamina', 'Strength', 'LongShots', 'Aggression',\n",
       "       'Interceptions', 'Positioning', 'Vision', 'Penalties', 'Composure',\n",
       "       'Marking', 'StandingTackle', 'SlidingTackle', 'GKDiving', 'GKHandling',\n",
       "       'GKKicking', 'GKPositioning', 'GKReflexes', 'Right_Foot',\n",
       "       'Major_Nation', 'Simple_Position_AM', 'Simple_Position_DF',\n",
       "       'Simple_Position_DM', 'Simple_Position_GK', 'Simple_Position_MF',\n",
       "       'Simple_Position_ST', 'WorkRate1_High', 'WorkRate1_Low',\n",
       "       'WorkRate1_Medium', 'WorkRate2_High', 'WorkRate2_Low',\n",
       "       'WorkRate2_Medium'],\n",
       "      dtype='object')"
      ]
     },
     "execution_count": 16,
     "metadata": {},
     "output_type": "execute_result"
    }
   ],
   "source": [
    "df2.columns"
   ]
  },
  {
   "cell_type": "code",
   "execution_count": 17,
   "metadata": {},
   "outputs": [],
   "source": [
    "df2['Wage'] = np.log10(df2['Wage']+1)\n",
    "df2['Value'] = np.log10(df2['Value']+1) "
   ]
  },
  {
   "cell_type": "code",
   "execution_count": 18,
   "metadata": {},
   "outputs": [],
   "source": [
    "#Remove whose player values are 0\n",
    "df3 = df2[df2['Value']!=0]\n",
    "df3= df3[~df3['Agility'].isnull()]"
   ]
  },
  {
   "cell_type": "code",
   "execution_count": 19,
   "metadata": {},
   "outputs": [],
   "source": [
    "#Ok niggas time to random forest"
   ]
  },
  {
   "cell_type": "code",
   "execution_count": 20,
   "metadata": {},
   "outputs": [
    {
     "data": {
      "text/plain": [
       "Index(['Age', 'Overall', 'Potential', 'Value', 'Wage',\n",
       "       'International Reputation', 'Weak Foot', 'Skill Moves', 'Crossing',\n",
       "       'Finishing', 'HeadingAccuracy', 'ShortPassing', 'Volleys', 'Dribbling',\n",
       "       'Curve', 'FKAccuracy', 'LongPassing', 'BallControl', 'Acceleration',\n",
       "       'SprintSpeed', 'Agility', 'Reactions', 'Balance', 'ShotPower',\n",
       "       'Jumping', 'Stamina', 'Strength', 'LongShots', 'Aggression',\n",
       "       'Interceptions', 'Positioning', 'Vision', 'Penalties', 'Composure',\n",
       "       'Marking', 'StandingTackle', 'SlidingTackle', 'GKDiving', 'GKHandling',\n",
       "       'GKKicking', 'GKPositioning', 'GKReflexes', 'Right_Foot',\n",
       "       'Major_Nation', 'Simple_Position_AM', 'Simple_Position_DF',\n",
       "       'Simple_Position_DM', 'Simple_Position_GK', 'Simple_Position_MF',\n",
       "       'Simple_Position_ST', 'WorkRate1_High', 'WorkRate1_Low',\n",
       "       'WorkRate1_Medium', 'WorkRate2_High', 'WorkRate2_Low',\n",
       "       'WorkRate2_Medium'],\n",
       "      dtype='object')"
      ]
     },
     "execution_count": 20,
     "metadata": {},
     "output_type": "execute_result"
    }
   ],
   "source": [
    "df3.columns"
   ]
  },
  {
   "cell_type": "code",
   "execution_count": 21,
   "metadata": {},
   "outputs": [],
   "source": [
    "labels = np.array(df3['Value'])\n",
    "df3 = df3.drop(labels = ['Value','Wage','Overall'], axis=1)\n",
    "features_list = ['Reactions','Potential','Age','BallControl','StandingTackle','Composure','Dribbling','Positioning',\n",
    "                 'Finishing','GKReflexes']\n",
    "\n",
    "features = np.array(df3[features_list])"
   ]
  },
  {
   "cell_type": "code",
   "execution_count": 22,
   "metadata": {},
   "outputs": [],
   "source": [
    "# Using Skicit-learn to split data into training and testing sets\n",
    "from sklearn.model_selection import train_test_split\n",
    "# Split the data into training and testing sets\n",
    "train_features, test_features, train_labels, test_labels = train_test_split(features, labels, test_size = 0.25, random_state = 42)"
   ]
  },
  {
   "cell_type": "code",
   "execution_count": 23,
   "metadata": {},
   "outputs": [
    {
     "name": "stdout",
     "output_type": "stream",
     "text": [
      "Training Features Shape: (13430, 10)\n",
      "Training Labels Shape: (13430,)\n",
      "Testing Features Shape: (4477, 10)\n",
      "Testing Labels Shape: (4477,)\n"
     ]
    }
   ],
   "source": [
    "print('Training Features Shape:', train_features.shape)\n",
    "print('Training Labels Shape:', train_labels.shape)\n",
    "print('Testing Features Shape:', test_features.shape)\n",
    "print('Testing Labels Shape:', test_labels.shape)"
   ]
  },
  {
   "cell_type": "code",
   "execution_count": 24,
   "metadata": {},
   "outputs": [
    {
     "data": {
      "text/plain": [
       "RandomForestRegressor(bootstrap=True, criterion='mse', max_depth=None,\n",
       "           max_features='auto', max_leaf_nodes=None,\n",
       "           min_impurity_decrease=0.0, min_impurity_split=None,\n",
       "           min_samples_leaf=1, min_samples_split=2,\n",
       "           min_weight_fraction_leaf=0.0, n_estimators=100, n_jobs=None,\n",
       "           oob_score=False, random_state=42, verbose=0, warm_start=False)"
      ]
     },
     "execution_count": 24,
     "metadata": {},
     "output_type": "execute_result"
    }
   ],
   "source": [
    "# Import the model we are using\n",
    "from sklearn.ensemble import RandomForestRegressor\n",
    "# Instantiate model with 100 decision trees\n",
    "rf = RandomForestRegressor(n_estimators = 100, random_state = 42)\n",
    "# Train the model on training data\n",
    "rf.fit(train_features, train_labels)"
   ]
  },
  {
   "cell_type": "code",
   "execution_count": 25,
   "metadata": {},
   "outputs": [
    {
     "name": "stdout",
     "output_type": "stream",
     "text": [
      "Mean Absolute Error: 0.07\n",
      "Mean Square Error: 37.73\n"
     ]
    }
   ],
   "source": [
    "# Use the forest's predict method on the test data\n",
    "predictions = rf.predict(test_features)\n",
    "# Calculate the absolute errors\n",
    "errors = abs(predictions - test_labels)\n",
    "# Print out the mean absolute error (mae)\n",
    "print('Mean Absolute Error:', round(np.mean(errors), 2))\n",
    "\n",
    "# Print out the MSE\n",
    "print('Mean Square Error:', round(np.sum(errors**2), 2))\n"
   ]
  },
  {
   "cell_type": "code",
   "execution_count": 26,
   "metadata": {},
   "outputs": [],
   "source": [
    "from sklearn.metrics import r2_score"
   ]
  },
  {
   "cell_type": "code",
   "execution_count": 27,
   "metadata": {},
   "outputs": [
    {
     "data": {
      "text/plain": [
       "0.9564217001322042"
      ]
     },
     "execution_count": 27,
     "metadata": {},
     "output_type": "execute_result"
    }
   ],
   "source": [
    "#Scale predicitions and labels to original values\n",
    "pred_act = 10**predictions\n",
    "test_act = 10**test_labels\n",
    "\n",
    "r2_score(test_act, pred_act) "
   ]
  },
  {
   "cell_type": "code",
   "execution_count": 28,
   "metadata": {},
   "outputs": [
    {
     "name": "stdout",
     "output_type": "stream",
     "text": [
      "Variable: Reactions            Importance: 0.4937\n",
      "Variable: Potential            Importance: 0.3261\n",
      "Variable: Age                  Importance: 0.0787\n",
      "Variable: BallControl          Importance: 0.0449\n",
      "Variable: StandingTackle       Importance: 0.0167\n",
      "Variable: Composure            Importance: 0.0106\n",
      "Variable: Positioning          Importance: 0.0086\n",
      "Variable: Dribbling            Importance: 0.0082\n",
      "Variable: Finishing            Importance: 0.0076\n",
      "Variable: GKReflexes           Importance: 0.005\n"
     ]
    }
   ],
   "source": [
    "importances = list(rf.feature_importances_)\n",
    "# List of tuples with variable and importance\n",
    "feature_importances = [(feature, round(importance, 4)) for feature, importance in zip(features_list, importances)]\n",
    "# Sort the feature importances by most important first\n",
    "feature_importances = sorted(feature_importances, key = lambda x: x[1], reverse = True)\n",
    "# Print out the feature and importances \n",
    "[print('Variable: {:20} Importance: {}'.format(*pair)) for pair in feature_importances];"
   ]
  },
  {
   "cell_type": "code",
   "execution_count": 29,
   "metadata": {},
   "outputs": [],
   "source": [
    "features = features_list\n",
    "importances = rf.feature_importances_\n",
    "indices = np.argsort(importances)\n",
    "\n"
   ]
  },
  {
   "cell_type": "code",
   "execution_count": 32,
   "metadata": {},
   "outputs": [
    {
     "data": {
      "image/png": "[encoded data removed]",
      "text/plain": [
       "<Figure size 432x288 with 1 Axes>"
      ]
     },
     "metadata": {
      "needs_background": "light"
     },
     "output_type": "display_data"
    }
   ],
   "source": [
    "plt.title('Feature Importances')\n",
    "plt.barh(range(len(indices)), importances[indices], color='b', align='center')\n",
    "plt.yticks(range(len(indices)), [features[i] for i in indices])\n",
    "plt.xlabel('Relative Importance')\n",
    "plt.tight_layout()\n",
    "plt.savefig('Var_Imp.png')"
   ]
  },
  {
   "cell_type": "code",
   "execution_count": 70,
   "metadata": {},
   "outputs": [],
   "source": [
    "#Do knn "
   ]
  },
  {
   "cell_type": "code",
   "execution_count": 93,
   "metadata": {},
   "outputs": [],
   "source": [
    "knn_inp = {'Reactions':65,'Potential':80,'Age':25,'BallControl':79,'StandingTackle':80,'Composure':80,\n",
    " 'Positionng':90,'Dribbling':65,'Finishing':80,'GKReflexes':90,'Position':'CAM'}"
   ]
  },
  {
   "cell_type": "code",
   "execution_count": 127,
   "metadata": {},
   "outputs": [],
   "source": [
    "def knn_manip(knn_inp):\n",
    "    df = pd.DataFrame(knn_inp,index=[0])\n",
    "    df['Simple_Position'] = df.apply(simple_position,axis = 1)\n",
    "\n",
    "    my_cols_list = ['Simple_Position_AM','Simple_Position_DF','Simple_Position_DM','Simple_Position_GK',\n",
    "       'Simple_Position_MF','Simple_Position_ST']\n",
    "    df = df.reindex(columns=[*df.columns.tolist(), *my_cols_list], fill_value=0)\n",
    "    req_simp = df['Simple_Position'].values[0]\n",
    "    col_name = 'Simple_Position_'+req_simp\n",
    "    df[col_name]=1\n",
    "    df.drop(labels=['Position','Simple_Position'],axis=1,inplace = True)\n",
    "    \n",
    "    #Find neighbors from processed data\n",
    "    processed = pd.read_csv('../data/processed_fifa.csv')\n",
    "    features_list = ['Reactions','Potential','Age','BallControl','StandingTackle','Composure','Positioning','Dribbling',\n",
    "                 'Finishing','GKReflexes']+[col for col in processed.columns if col.startswith('Simple_')]\n",
    "    position_data = processed.loc[processed[col_name]==1,:]\n",
    "    y_train = position_data['Value']\n",
    "    X_train = position_data[features_list]\n",
    "    \n",
    "    from sklearn.preprocessing import StandardScaler  \n",
    "    scaler = StandardScaler()  \n",
    "    scaler.fit(X_train)\n",
    "    X_train = scaler.transform(X_train)\n",
    "    df = scaler.transform(df)\n",
    "    \n",
    "    regressor = KNeighborsRegressor(n_neighbors=5)  \n",
    "    regressor.fit(X_train, y_train) \n",
    "    nneighbors = position_data.iloc[regressor.kneighbors(df)[1][0],:]\n",
    "    nneighbor_id = nneighbors['ID'].tolist()\n",
    "    return nneighbor_id"
   ]
  },
  {
   "cell_type": "code",
   "execution_count": 128,
   "metadata": {},
   "outputs": [
    {
     "name": "stderr",
     "output_type": "stream",
     "text": [
      "C:\\Users\\arpan\\Anaconda3\\envs\\football_manager\\lib\\site-packages\\sklearn\\preprocessing\\data.py:645: DataConversionWarning: Data with input dtype int64, float64 were all converted to float64 by StandardScaler.\n",
      "  return self.partial_fit(X, y)\n",
      "C:\\Users\\arpan\\Anaconda3\\envs\\football_manager\\lib\\site-packages\\ipykernel_launcher.py:24: DataConversionWarning: Data with input dtype int64, float64 were all converted to float64 by StandardScaler.\n",
      "C:\\Users\\arpan\\Anaconda3\\envs\\football_manager\\lib\\site-packages\\ipykernel_launcher.py:25: DataConversionWarning: Data with input dtype int64 were all converted to float64 by StandardScaler.\n"
     ]
    }
   ],
   "source": [
    "out = knn_manip(knn_inp)"
   ]
  },
  {
   "cell_type": "code",
   "execution_count": 129,
   "metadata": {},
   "outputs": [
    {
     "data": {
      "text/plain": [
       "[185165, 230272, 192255, 230273, 234025]"
      ]
     },
     "execution_count": 129,
     "metadata": {},
     "output_type": "execute_result"
    }
   ],
   "source": [
    "out"
   ]
  },
  {
   "cell_type": "code",
   "execution_count": 130,
   "metadata": {},
   "outputs": [],
   "source": [
    "chk = processed.loc[processed['ID'].isin(out),:]"
   ]
  },
  {
   "cell_type": "code",
   "execution_count": 18,
   "metadata": {},
   "outputs": [],
   "source": [
    "import os"
   ]
  },
  {
   "cell_type": "code",
   "execution_count": 25,
   "metadata": {},
   "outputs": [
    {
     "data": {
      "text/plain": [
       "'root'"
      ]
     },
     "execution_count": 25,
     "metadata": {},
     "output_type": "execute_result"
    }
   ],
   "source": [
    "os.environ.get('MY_SQL_USER')\n"
   ]
  },
  {
   "cell_type": "code",
   "execution_count": 22,
   "metadata": {},
   "outputs": [
    {
     "data": {
      "text/plain": [
       "environ{'ALLUSERSPROFILE': 'C:\\\\ProgramData',\n",
       "        'APPDATA': 'C:\\\\Users\\\\arpan\\\\AppData\\\\Roaming',\n",
       "        'COMMONPROGRAMFILES': 'C:\\\\Program Files\\\\Common Files',\n",
       "        'COMMONPROGRAMFILES(X86)': 'C:\\\\Program Files (x86)\\\\Common Files',\n",
       "        'COMMONPROGRAMW6432': 'C:\\\\Program Files\\\\Common Files',\n",
       "        'COMPUTERNAME': 'DESKTOP-NR2TU7G',\n",
       "        'COMSPEC': 'C:\\\\Windows\\\\system32\\\\cmd.exe',\n",
       "        'CONDA_BAT': 'C:\\\\Users\\\\arpan\\\\Anaconda3\\\\condabin\\\\conda.bat',\n",
       "        'CONDA_DEFAULT_ENV': 'football_manager',\n",
       "        'CONDA_EXE': 'C:\\\\Users\\\\arpan\\\\Anaconda3\\\\Scripts\\\\conda.exe',\n",
       "        'CONDA_PREFIX': 'C:\\\\Users\\\\arpan\\\\Anaconda3\\\\envs\\\\football_manager',\n",
       "        'CONDA_PROMPT_MODIFIER': '(football_manager) ',\n",
       "        'CONDA_PYTHON_EXE': 'C:\\\\Users\\\\arpan\\\\Anaconda3\\\\python.exe',\n",
       "        'CONDA_SHLVL': '1',\n",
       "        'DRIVERDATA': 'C:\\\\Windows\\\\System32\\\\Drivers\\\\DriverData',\n",
       "        'FPS_BROWSER_APP_PROFILE_STRING': 'Internet Explorer',\n",
       "        'FPS_BROWSER_USER_PROFILE_STRING': 'Default',\n",
       "        'HOMEDRIVE': 'C:',\n",
       "        'HOMEPATH': '\\\\Users\\\\arpan',\n",
       "        'LOCALAPPDATA': 'C:\\\\Users\\\\arpan\\\\AppData\\\\Local',\n",
       "        'LOGONSERVER': '\\\\\\\\DESKTOP-NR2TU7G',\n",
       "        'NUMBER_OF_PROCESSORS': '8',\n",
       "        'ONEDRIVE': 'C:\\\\Users\\\\arpan\\\\OneDrive',\n",
       "        'OS': 'Windows_NT',\n",
       "        'PATH': 'C:\\\\Users\\\\arpan\\\\Anaconda3\\\\envs\\\\football_manager;C:\\\\Users\\\\arpan\\\\Anaconda3\\\\envs\\\\football_manager\\\\Library\\\\mingw-w64\\\\bin;C:\\\\Users\\\\arpan\\\\Anaconda3\\\\envs\\\\football_manager\\\\Library\\\\usr\\\\bin;C:\\\\Users\\\\arpan\\\\Anaconda3\\\\envs\\\\football_manager\\\\Library\\\\bin;C:\\\\Users\\\\arpan\\\\Anaconda3\\\\envs\\\\football_manager\\\\Scripts;C:\\\\Users\\\\arpan\\\\Anaconda3\\\\envs\\\\football_manager\\\\bin;C:\\\\Users\\\\arpan\\\\Anaconda3\\\\condabin;C:\\\\Program Files (x86)\\\\RSA SecurID Token Common;C:\\\\Program Files\\\\RSA SecurID Token Common;C:\\\\Program Files (x86)\\\\Common Files\\\\Oracle\\\\Java\\\\javapath;C:\\\\Program Files (x86)\\\\Intel\\\\Intel(R) Management Engine Components\\\\iCLS;C:\\\\Program Files\\\\Intel\\\\Intel(R) Management Engine Components\\\\iCLS;C:\\\\Windows\\\\system32;C:\\\\Windows;C:\\\\Windows\\\\System32\\\\Wbem;C:\\\\Windows\\\\System32\\\\WindowsPowerShell\\\\v1.0;C:\\\\Windows\\\\System32\\\\OpenSSH;C:\\\\Program Files (x86)\\\\Intel\\\\Intel(R) Management Engine Components\\\\DAL;C:\\\\Program Files\\\\Intel\\\\Intel(R) Management Engine Components\\\\DAL;C:\\\\Program Files (x86)\\\\Intel\\\\Intel(R) Management Engine Components\\\\IPT;C:\\\\Program Files\\\\Intel\\\\Intel(R) Management Engine Components\\\\IPT;C:\\\\Program Files\\\\Microsoft VS Code\\\\bin;C:\\\\Users\\\\arpan\\\\Anaconda3;C:\\\\Users\\\\arpan\\\\Anaconda3\\\\Scripts;C:\\\\Program Files\\\\MiKTeX 2.9\\\\miktex\\\\bin\\\\x64;C:\\\\Program Files\\\\PuTTY;C:\\\\Users\\\\arpan\\\\Anaconda3;C:\\\\Users\\\\arpan\\\\Anaconda3\\\\Library\\\\mingw-w64\\\\bin;C:\\\\Users\\\\arpan\\\\Anaconda3\\\\Library\\\\usr\\\\bin;C:\\\\Users\\\\arpan\\\\Anaconda3\\\\Library\\\\bin;C:\\\\Users\\\\arpan\\\\Anaconda3\\\\Scripts;C:\\\\cygwin64\\\\bin;.',\n",
       "        'PATHEXT': '.COM;.EXE;.BAT;.CMD;.VBS;.VBE;.JS;.JSE;.WSF;.WSH;.MSC',\n",
       "        'PROCESSOR_ARCHITECTURE': 'AMD64',\n",
       "        'PROCESSOR_IDENTIFIER': 'Intel64 Family 6 Model 142 Stepping 10, GenuineIntel',\n",
       "        'PROCESSOR_LEVEL': '6',\n",
       "        'PROCESSOR_REVISION': '8e0a',\n",
       "        'PROGRAMDATA': 'C:\\\\ProgramData',\n",
       "        'PROGRAMFILES': 'C:\\\\Program Files',\n",
       "        'PROGRAMFILES(X86)': 'C:\\\\Program Files (x86)',\n",
       "        'PROGRAMW6432': 'C:\\\\Program Files',\n",
       "        'PROMPT': '(football_manager) $P$G',\n",
       "        'PSMODULEPATH': 'C:\\\\Program Files\\\\WindowsPowerShell\\\\Modules;C:\\\\Windows\\\\system32\\\\WindowsPowerShell\\\\v1.0\\\\Modules',\n",
       "        'PUBLIC': 'C:\\\\Users\\\\Public',\n",
       "        'SESSIONNAME': 'Console',\n",
       "        'SYSTEMDRIVE': 'C:',\n",
       "        'SYSTEMROOT': 'C:\\\\Windows',\n",
       "        'TEMP': 'C:\\\\Users\\\\arpan\\\\AppData\\\\Local\\\\Temp',\n",
       "        'TMP': 'C:\\\\Users\\\\arpan\\\\AppData\\\\Local\\\\Temp',\n",
       "        'USERDOMAIN': 'DESKTOP-NR2TU7G',\n",
       "        'USERDOMAIN_ROAMINGPROFILE': 'DESKTOP-NR2TU7G',\n",
       "        'USERNAME': 'arpan',\n",
       "        'USERPROFILE': 'C:\\\\Users\\\\arpan',\n",
       "        'WINDIR': 'C:\\\\Windows',\n",
       "        'JPY_INTERRUPT_EVENT': '1308',\n",
       "        'IPY_INTERRUPT_EVENT': '1308',\n",
       "        'JPY_PARENT_PID': '2120',\n",
       "        'TERM': 'xterm-color',\n",
       "        'CLICOLOR': '1',\n",
       "        'PAGER': 'cat',\n",
       "        'GIT_PAGER': 'cat',\n",
       "        'MPLBACKEND': 'module://ipykernel.pylab.backend_inline'}"
      ]
     },
     "execution_count": 22,
     "metadata": {},
     "output_type": "execute_result"
    }
   ],
   "source": [
    "os.environ"
   ]
  },
  {
   "cell_type": "code",
   "execution_count": 24,
   "metadata": {},
   "outputs": [],
   "source": [
    "os.environ['MY_SQL_USER'] = 'root'"
   ]
  },
  {
   "cell_type": "code",
   "execution_count": 26,
   "metadata": {},
   "outputs": [],
   "source": [
    "os.environ['MY_SQL_PASSWORD'] = 'TQuNTU9emjMJmi7'"
   ]
  },
  {
   "cell_type": "code",
   "execution_count": null,
   "metadata": {},
   "outputs": [],
   "source": []
  }
 ],
 "metadata": {
  "kernelspec": {
   "display_name": "Python (Football)",
   "language": "python",
   "name": "football_manager"
  },
  "language_info": {
   "codemirror_mode": {
    "name": "ipython",
    "version": 3
   },
   "file_extension": ".py",
   "mimetype": "text/x-python",
   "name": "python",
   "nbconvert_exporter": "python",
   "pygments_lexer": "ipython3",
   "version": "3.7.3"
  }
 },
 "nbformat": 4,
 "nbformat_minor": 2
}
