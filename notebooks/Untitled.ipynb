{
 "cells": [
  {
   "cell_type": "code",
   "execution_count": 1,
   "metadata": {},
   "outputs": [],
   "source": [
    "import pandas as pd\n",
    "import numpy as np\n",
    "from datetime import datetime\n",
    "import re\n",
    "import seaborn as sns\n",
    "import matplotlib.pyplot as plt\n",
    "from scipy.stats import norm\n",
    "from scipy import stats"
   ]
  },
  {
   "cell_type": "code",
   "execution_count": 39,
   "metadata": {},
   "outputs": [],
   "source": [
    "fifa = pd.read_csv('../data/EA_FIFA19.csv')"
   ]
  },
  {
   "cell_type": "code",
   "execution_count": 40,
   "metadata": {},
   "outputs": [],
   "source": [
    "\tdef value_to_int(df_value):\n",
    "\t\ttry:\n",
    "\t\t\tvalue = float(df_value[1:-1])\n",
    "\t\t\tsuffix = df_value[-1:]\n",
    "\n",
    "\t\t\tif suffix == 'M':\n",
    "\t\t\t\tvalue = value * 1000000\n",
    "\t\t\telif suffix == 'K':\n",
    "\t\t\t\tvalue = value * 1000\n",
    "\t\texcept ValueError:\n",
    "\t\t\tvalue = 0\n",
    "\t\treturn value\n",
    "\n",
    "fifa['Value'] = fifa['Value'].apply(value_to_int)\n",
    "fifa['Wage'] = fifa['Wage'].apply(value_to_int)"
   ]
  },
  {
   "cell_type": "code",
   "execution_count": 41,
   "metadata": {},
   "outputs": [],
   "source": [
    "\tfifa['Release Clause'] = fifa['Release Clause'].fillna('0')\n",
    "\tfifa['Release Clause'] = fifa['Release Clause'].apply(value_to_int)\n",
    "\n",
    "\tfifa.loc[fifa['Release Clause'] == 0, 'Release Clause'] = fifa[fifa['Release Clause'] > 0]['Release Clause'].mean()\n",
    "\n"
   ]
  },
  {
   "cell_type": "code",
   "execution_count": 42,
   "metadata": {},
   "outputs": [],
   "source": [
    "\tdef check_contract(row):\n",
    "\t\t\"\"\"\n",
    "\t\tCreates new variable num_contract days remaining from contract expiry date information\n",
    "\t\t:param row: each row/obheservation of the dataframe\n",
    "\t\t:return: updated row with new variable 'contract_days'\n",
    "\t\t\"\"\"\n",
    "\t\tmonth_list = ['Jan', 'Feb', 'Mar', 'Apr', 'May', 'Jun', 'Jul', 'Aug', 'Sep', 'Oct', 'Nov', 'Dec']\n",
    "\t\tref_date = datetime(2018, 5, 31, 0, 0, 0)\n",
    "\t\tcontract = row['Contract Valid Until']\n",
    "\t\ttry:\n",
    "\t\t\tmatch = re.findall('(\\w{3}) \\d{1,2}, (\\d{4})', contract)\n",
    "\t\t\tif len(match) != 0:\n",
    "\t\t\t\tmonth_str = match[0][0]\n",
    "\t\t\t\tmonth = month_list.index(month_str) + 1\n",
    "\t\t\t\tyear = int(match[0][1])\n",
    "\t\t\t\tdt = datetime(year, month, 1, 0, 0, 0)\n",
    "\t\t\t\ta = dt - ref_date\n",
    "\t\t\t\trow['contract_days'] = a.days\n",
    "\t\t\telse:\n",
    "\t\t\t\tmatch = re.findall('(\\d{4})', contract)\n",
    "\t\t\t\tmonth = month_list.index('Jun') + 1\n",
    "\t\t\t\tyear = int(match[0])\n",
    "\t\t\t\tdt = datetime(year, month, 1, 0, 0, 0)\n",
    "\t\t\t\ta = dt - ref_date\n",
    "\t\t\t\trow['contract_days'] = a.days\n",
    "\t\t\treturn row\n",
    "\t\texcept:\n",
    "\t\t\tyear = 2020\n",
    "\t\t\tmonth = month_list.index('Jun')\n",
    "\t\t\tdt = datetime(year, month, 1, 0, 0, 0)\n",
    "\t\t\ta = dt - ref_date\n",
    "\t\t\trow['contract_days'] = a.days\n",
    "\t\t\treturn row\n",
    "\n",
    "\tfifa = fifa.apply(check_contract,axis=1)\n"
   ]
  },
  {
   "cell_type": "code",
   "execution_count": 47,
   "metadata": {},
   "outputs": [],
   "source": [
    "\tdef right_footed(df):\n",
    "\t\t\"\"\"\n",
    "\t\tTurn Preferred Foot into a binary indicator variable\n",
    "\t\t\"\"\"\n",
    "\t\tif (df['Preferred Foot'] == 'Right'):\n",
    "\t\t\treturn 1\n",
    "\t\telse:\n",
    "\t\t\treturn 0\n",
    "\t#\n",
    "\t#\n",
    "\tdef simple_position(df):\n",
    "\t\t\"\"\"\n",
    "\t\tCreate a simplified position varaible to account for all player positions\n",
    "\t\t\"\"\"\n",
    "\t\tif (df['Position'] == 'GK'):\n",
    "\t\t\treturn 'GK'\n",
    "\t\telif ((df['Position'] == 'RB') | (df['Position'] == 'LB') | (df['Position'] == 'CB') | (\n",
    "\t\t\t\tdf['Position'] == 'LCB') | (df['Position'] == 'RCB') | (df['Position'] == 'RWB') | (\n",
    "\t\t\t\t\t  df['Position'] == 'LWB')):\n",
    "\t\t\treturn 'DF'\n",
    "\t\telif ((df['Position'] == 'LDM') | (df['Position'] == 'CDM') | (df['Position'] == 'RDM')):\n",
    "\t\t\treturn 'DM'\n",
    "\t\telif ((df['Position'] == 'LM') | (df['Position'] == 'LCM') | (df['Position'] == 'CM') | (\n",
    "\t\t\t\tdf['Position'] == 'RCM') | (df['Position'] == 'RM')):\n",
    "\t\t\treturn 'MF'\n",
    "\t\telif ((df['Position'] == 'LAM') | (df['Position'] == 'CAM') | (df['Position'] == 'RAM') | (\n",
    "\t\t\t\tdf['Position'] == 'LW') | (df['Position'] == 'RW')):\n",
    "\t\t\treturn 'AM'\n",
    "\t\telif ((df['Position'] == 'RS') | (df['Position'] == 'ST') | (df['Position'] == 'LS') | (\n",
    "\t\t\t\tdf['Position'] == 'CF') | (df['Position'] == 'LF') | (df['Position'] == 'RF')):\n",
    "\t\t\treturn 'ST'\n",
    "\t\telse:\n",
    "\t\t\treturn df.Position\n",
    "\t#\n",
    "\t#\n",
    "\tnat_counts = fifa['Nationality'].value_counts()\n",
    "\tnat_list = nat_counts[nat_counts > 250].index.tolist()\n",
    "    \n",
    "    \n",
    "\tdef major_nation(df):\n",
    "\t\t\"\"\"\n",
    "\t\tReplace Nationality with a binary indicator variable for 'Major Nation'\n",
    "\t\t\"\"\"\n",
    "\n",
    "\t\tif (df.Nationality in nat_list):\n",
    "\t\t\treturn 1\n",
    "\t\telse:\n",
    "\t\t\treturn 0\n",
    "\n",
    "\t# Create a copy of the original dataframe to avoid indexing errors\n",
    "\tdf = fifa.copy()\n",
    "\n",
    "\t# Apply changes to dataset to create new column\n",
    "\tdf['Right_Foot'] = df.apply(right_footed, axis=1)\n",
    "\tdf['Simple_Position'] = df.apply(simple_position, axis=1)\n",
    "\tdf['Major_Nation'] = df.apply(major_nation, axis=1)\n"
   ]
  },
  {
   "cell_type": "code",
   "execution_count": 48,
   "metadata": {},
   "outputs": [],
   "source": [
    "\ttempwork = df[\"Work Rate\"].str.split(\"/ \", n=1, expand=True)\n",
    "\t# Create new column for first work rate\n",
    "\tdf[\"WorkRate1\"] = tempwork[0]\n",
    "\t# Create new column for second work rate\n",
    "\tdf[\"WorkRate2\"] = tempwork[1]\n",
    "\n",
    "\tdf.drop(columns=['LS', 'ST', 'RS', 'LW', 'LF', 'CF', 'RF', 'RW',\n",
    "\t\t\t\t\t  'LAM', 'CAM', 'RAM', 'LM', 'LCM', 'CM', 'RCM', 'RM', 'LWB', 'LDM',\n",
    "\t\t\t\t\t  'CDM', 'RDM', 'RWB', 'LB', 'LCB', 'CB', 'RCB', 'RB'], inplace=True)\n",
    "\n",
    "\tdf.drop(['Work Rate', 'Preferred Foot', 'Real Face', 'Position', 'Nationality'], axis=1, inplace=True)"
   ]
  },
  {
   "cell_type": "code",
   "execution_count": 49,
   "metadata": {},
   "outputs": [],
   "source": [
    "\tdf['Wage'] = np.log10(df['Wage'] + 1)\n",
    "\tdf['Value'] = np.log10(df['Value'] + 1)\n",
    "\n"
   ]
  },
  {
   "cell_type": "code",
   "execution_count": 65,
   "metadata": {},
   "outputs": [],
   "source": [
    "\t#Remove NA and Unlabelled observations\n",
    "\tdf_final = df[df['Value'] != 0]\n",
    "\tdf_final = df_final[~df_final['Agility'].isnull()]"
   ]
  },
  {
   "cell_type": "code",
   "execution_count": 66,
   "metadata": {},
   "outputs": [],
   "source": [
    "\n",
    "adhoc = df_final[['ID', 'Photo', 'Flag', 'Club Logo', 'Jersey Number', 'Joined', 'Special', 'Loaned From',\n",
    "\t\t\t\t 'Body Type','Weight', 'Height', 'Contract Valid Until', 'Name', 'Club']]\n",
    "\n"
   ]
  },
  {
   "cell_type": "code",
   "execution_count": 67,
   "metadata": {},
   "outputs": [
    {
     "data": {
      "text/plain": [
       "Index(['ID', 'Name', 'Age', 'Photo', 'Flag', 'Overall', 'Potential', 'Club',\n",
       "       'Club Logo', 'Value', 'Wage', 'Special', 'International Reputation',\n",
       "       'Weak Foot', 'Skill Moves', 'Body Type', 'Jersey Number', 'Joined',\n",
       "       'Loaned From', 'Contract Valid Until', 'Height', 'Weight', 'Crossing',\n",
       "       'Finishing', 'HeadingAccuracy', 'ShortPassing', 'Volleys', 'Dribbling',\n",
       "       'Curve', 'FKAccuracy', 'LongPassing', 'BallControl', 'Acceleration',\n",
       "       'SprintSpeed', 'Agility', 'Reactions', 'Balance', 'ShotPower',\n",
       "       'Jumping', 'Stamina', 'Strength', 'LongShots', 'Aggression',\n",
       "       'Interceptions', 'Positioning', 'Vision', 'Penalties', 'Composure',\n",
       "       'Marking', 'StandingTackle', 'SlidingTackle', 'GKDiving', 'GKHandling',\n",
       "       'GKKicking', 'GKPositioning', 'GKReflexes', 'Release Clause',\n",
       "       'contract_days', 'Right_Foot', 'Simple_Position', 'Major_Nation',\n",
       "       'WorkRate1', 'WorkRate2'],\n",
       "      dtype='object')"
      ]
     },
     "execution_count": 67,
     "metadata": {},
     "output_type": "execute_result"
    }
   ],
   "source": [
    "df_final.columns"
   ]
  },
  {
   "cell_type": "code",
   "execution_count": 68,
   "metadata": {},
   "outputs": [],
   "source": [
    "\t#Drop unnecessary columns\n",
    "\tdf_final.drop(\n",
    "\t\tcolumns=['ID', 'Photo', 'Flag', 'Club Logo', 'Jersey Number', 'Joined', 'Special', 'Loaned From',\n",
    "\t\t\t\t 'Body Type','Weight', 'Height', 'Contract Valid Until', 'Name', 'Club',\n",
    "\t\t\t\t 'WorkRate2'], inplace=True)\n",
    "\n",
    "\t\n",
    "\tdf_final = pd.get_dummies(df_final)\n",
    "    \tdf_final.rename(columns={'WorkRate1_High':'WorkRate_High',\n",
    "       'WorkRate1_Low':'WorkRate_Low', 'WorkRate1_Medium':'WorkRate_Medium'},inplace=True)\n"
   ]
  },
  {
   "cell_type": "code",
   "execution_count": 69,
   "metadata": {},
   "outputs": [
    {
     "data": {
      "text/plain": [
       "Index(['Age', 'Overall', 'Potential', 'Value', 'Wage',\n",
       "       'International Reputation', 'Weak Foot', 'Skill Moves', 'Crossing',\n",
       "       'Finishing', 'HeadingAccuracy', 'ShortPassing', 'Volleys', 'Dribbling',\n",
       "       'Curve', 'FKAccuracy', 'LongPassing', 'BallControl', 'Acceleration',\n",
       "       'SprintSpeed', 'Agility', 'Reactions', 'Balance', 'ShotPower',\n",
       "       'Jumping', 'Stamina', 'Strength', 'LongShots', 'Aggression',\n",
       "       'Interceptions', 'Positioning', 'Vision', 'Penalties', 'Composure',\n",
       "       'Marking', 'StandingTackle', 'SlidingTackle', 'GKDiving', 'GKHandling',\n",
       "       'GKKicking', 'GKPositioning', 'GKReflexes', 'Release Clause',\n",
       "       'contract_days', 'Right_Foot', 'Major_Nation', 'Simple_Position_AM',\n",
       "       'Simple_Position_DF', 'Simple_Position_DM', 'Simple_Position_GK',\n",
       "       'Simple_Position_MF', 'Simple_Position_ST', 'WorkRate1_High',\n",
       "       'WorkRate1_Low', 'WorkRate1_Medium'],\n",
       "      dtype='object')"
      ]
     },
     "execution_count": 69,
     "metadata": {},
     "output_type": "execute_result"
    }
   ],
   "source": [
    "df_final.columns"
   ]
  },
  {
   "cell_type": "code",
   "execution_count": null,
   "metadata": {},
   "outputs": [],
   "source": []
  }
 ],
 "metadata": {
  "kernelspec": {
   "display_name": "Python (Football)",
   "language": "python",
   "name": "football_manager"
  },
  "language_info": {
   "codemirror_mode": {
    "name": "ipython",
    "version": 3
   },
   "file_extension": ".py",
   "mimetype": "text/x-python",
   "name": "python",
   "nbconvert_exporter": "python",
   "pygments_lexer": "ipython3",
   "version": "3.7.3"
  }
 },
 "nbformat": 4,
 "nbformat_minor": 2
}
